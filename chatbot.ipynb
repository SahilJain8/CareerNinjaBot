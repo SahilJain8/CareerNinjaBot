{
 "cells": [
  {
   "cell_type": "code",
   "execution_count": 1,
   "id": "e9959569-d9f3-4347-aed9-e865209e353e",
   "metadata": {},
   "outputs": [],
   "source": [
    "from langchain.prompts import  PromptTemplate\n",
    "from langchain.tools import DuckDuckGoSearchRun\n",
    "from langchain.agents import Tool\n",
    "from langchain.agents import AgentType\n",
    "from langchain.agents import initialize_agent\n",
    "from langchain.memory import ConversationBufferMemory\n",
    "from langchain.chat_models import ChatGooglePalm\n",
    "from langchain import LLMChain\n",
    "from langchain.llms import GooglePalm\n",
    "import re\n",
    "from key import google_api_key\n",
    "from datetime import datetime\n",
    "\n",
    "pattern = r'[^\\w\\s]'\n",
    "    \n",
    "\n",
    "search = DuckDuckGoSearchRun()\n",
    "tools = [\n",
    "    Tool(\n",
    "        name = \"Current Search\",\n",
    "        func=search.run,\n",
    "        description=\"useful for when you need to answer questions about current events or the current state of the world\"\n",
    "    ),\n",
    "]\n",
    "\n"
   ]
  },
  {
   "cell_type": "code",
   "execution_count": 2,
   "id": "7c7fa741-761d-4fd6-a6a6-a0d8c084140e",
   "metadata": {},
   "outputs": [],
   "source": [
    "class careerNinjaModel:\n",
    "    def __init__(self,open_api_key = None):\n",
    "        #Model declaration to chat with the user\n",
    "\n",
    "        self.username = None\n",
    "        self.llm_chat = ChatGooglePalm(google_api_key = google_api_key)\n",
    "     \n",
    "        self.memory = ConversationBufferMemory(memory_key=\"chat_history\", return_messages=True)\n",
    "        self.careerNinjaModel_llm  = initialize_agent(tools,\n",
    "                               self.llm_chat,\n",
    "                               agent=AgentType.CHAT_CONVERSATIONAL_REACT_DESCRIPTION,\n",
    "                                verbose=False,\n",
    "                            handle_parsing_errors=True,\n",
    "                              memory=self.memory)\n",
    "\n",
    "        #Model declaration to check the tone of the sentences\n",
    "        self.prompt_template  = PromptTemplate(\n",
    "                input_variables=['topic'],\n",
    "                template=\"Please analyze the tone of content related to '{topic}' and classify it as either friendly or non-friendly.no additional information\" )\n",
    "        self.check_tone_model  =LLMChain(prompt=self.prompt_template,llm=GooglePalm(google_api_key = google_api_key))\n",
    "        self.sentence = None\n",
    "        self.user_tone = None\n",
    "\n",
    "        \n",
    "        #Model declaration to collect user information\n",
    "        self.data_prompt_template = PromptTemplate(\n",
    "                input_variables=['user_deatils'],\n",
    "                template=\"Ask the user politely and in a innovative way about there {user_deatils} in English only one question in first person\" )\n",
    "        self.user_data_model  =LLMChain(prompt=self.data_prompt_template,llm=ChatGooglePalm(google_api_key = google_api_key))\n",
    "        self.verification = None\n",
    "        \n",
    "\n",
    "    def check_tone(self):\n",
    "        try:\n",
    "            predection = self.check_tone_model.run(topic = self.sentence)\n",
    "            if predection == \"friendly\":\n",
    "                self.user_tone = True\n",
    "            else:\n",
    "                self.user_tone = False      \n",
    "        except Exception as e:\n",
    "             self.user_tone = False\n",
    "\n",
    "    \n",
    "    def user_promt(self):\n",
    "        ans = self.careerNinjaModel_llm(self.sentence)\n",
    "        if self.username != None:\n",
    "            return \"Hello \" +self.username + \"Information is\" + ans['output']\n",
    "        return ans\n",
    "\n",
    "    \n",
    "    def ask_user(self,detail):\n",
    "    \n",
    "        question = self.user_data_model.run(user_deatils = detail)\n",
    "        return question\n",
    "\n",
    "    \n",
    "    def check_user_details(self,text,key):\n",
    "        data_prompt_template = PromptTemplate(\n",
    "                    input_variables=['key','text'],\n",
    "                    template=\"Is this {text} valid {key} just give the answer as yes or no\" )\n",
    "        \n",
    "        user_model_check = LLMChain(prompt=data_prompt_template,llm=GooglePalm(google_api_key = google_api_key))\n",
    "        try:\n",
    "            predection = user_model_check.run(key = key,text = text)\n",
    "            if predection == \"yes\":\n",
    "                self.verification = True\n",
    "            else:\n",
    "                self.verification = False\n",
    "        except Exception as e:\n",
    "            self.verification = False\n",
    "\n",
    "    from datetime import datetime\n",
    "\n",
    "    def validate_birthday(self,birthday):\n",
    "        try:\n",
    "            birthdate = datetime.strptime(birthday, '%Y-%m-%d')\n",
    "            \n",
    "\n",
    "            current_date = datetime.now()\n",
    "            \n",
    "            age = current_date.year - birthdate.year - ((current_date.month, current_date.day) < (birthdate.month, birthdate.day))\n",
    "            if age < 150 and birthdate <= current_date:\n",
    "                return True,\n",
    "            else:\n",
    "                return False\n",
    "        except ValueError:\n",
    "            return False\n",
    "            \n",
    "    def validate_phone_number(self,phone_number):\n",
    "\n",
    "            pattern = r'^\\d{10}$'\n",
    "            if re.match(pattern, phone_number):\n",
    "                return True\n",
    "            else:\n",
    "                return False\n",
    "                \n",
    "    def validate_email(self,email):\n",
    " \n",
    "            pattern = r'^[a-zA-Z0-9._%+-]+@[a-zA-Z0-9.-]+\\.[a-zA-Z]{2,}$'\n",
    "            if re.match(pattern, email):\n",
    "                return True\n",
    "            else:\n",
    "                return False\n",
    "            \n",
    "        \n",
    "        \n",
    "model = careerNinjaModel()      "
   ]
  },
  {
   "cell_type": "code",
   "execution_count": null,
   "id": "bbef1676-9600-4672-b463-f0e8b49ddeef",
   "metadata": {},
   "outputs": [
    {
     "name": "stdout",
     "output_type": "stream",
     "text": [
      "Hi How are you what would you like to know about ???\n"
     ]
    },
    {
     "name": "stdin",
     "output_type": "stream",
     "text": [
      " hiii how are you\n"
     ]
    },
    {
     "name": "stdout",
     "output_type": "stream",
     "text": [
      "----------------------------------------------------------------------------------------------------------------------\n",
      "Chatbot response :  Hello sahilInformation isAnime is a diverse medium with a wide range of genres, from action and adventure to romance and comedy. Anime is popular all over the world, and there are many websites and streaming services where you can watch anime online. Some popular anime series include Naruto, Dragon Ball Z, and One Piece. If you are interested in watching anime, there are many resources available to you. You can watch anime online, on DVD, or Blu-ray. You can also find anime in many libraries and bookstores. If you are new to anime, there are many websites and articles that can help you get started. You can also find many anime fans online who are happy to share their recommendations. So what are you waiting for? Start watching anime today!\n",
      "----------------------------------------------------------------------------------------------------------------------\n"
     ]
    },
    {
     "name": "stdout",
     "output_type": "stream",
     "text": [
      " House no 148,3rd block,vijaynagar,mysore,karnataka india \n"
     ]
    },
    {
     "name": "stdout",
     "output_type": "stream",
     "text": [
      "----------------------------------------------------------------------------------------------------------------------\n",
      "Chatbot response: Hi there Im a virtual assistant that can help you with a variety of tasks In order to better assist you may I have your phone number I promise I wont spam you or sell your information\n",
      "----------------------------------------------------------------------------------------------------------------------\n"
     ]
    },
    {
     "name": "stdout",
     "output_type": "stream",
     "text": [
      " 9980670768\n"
     ]
    },
    {
     "name": "stdout",
     "output_type": "stream",
     "text": [
      "----------------------------------------------------------------------------------------------------------------------\n",
      "Chatbot response : No problem lets continue with our Topic today\n",
      "----------------------------------------------------------------------------------------------------------------------\n"
     ]
    },
    {
     "name": "stdout",
     "output_type": "stream",
     "text": [
      " anime\n"
     ]
    },
    {
     "name": "stdout",
     "output_type": "stream",
     "text": [
      "----------------------------------------------------------------------------------------------------------------------\n",
      "Chatbot response :  Hello sahilInformation isAnime is a style of animation popular in Japan. It is characterized by its distinctive art style, which often features large eyes, vibrant colors, and fantastical settings. Anime can be found in a variety of genres, including action, adventure, comedy, drama, romance, and science fiction. It is enjoyed by people of all ages, and has become a popular form of entertainment around the world.\n",
      "\n",
      "You can watch anime online on Anime-Planet. Anime-Planet is a website that offers a wide variety of anime shows and movies. You can watch anime for free on Anime-Planet, but you will need to create an account. Once you have created an account, you can watch anime online or download it to your computer.\n",
      "\n",
      "Here are some of the most popular anime shows and movies that you can watch on Anime-Planet:\n",
      "\n",
      "* Naruto\n",
      "* One Piece\n",
      "* Dragon Ball Z\n",
      "* Bleach\n",
      "* Fairy Tail\n",
      "* Attack on Titan\n",
      "* Death Note\n",
      "* Code Geass\n",
      "* Fullmetal Alchemist: Brotherhood\n",
      "* Steins;Gate\n",
      "* Clannad\n",
      "* Anohana: The Flower We Saw That Day\n",
      "* Your Lie in April\n",
      "* Violet Evergarden\n",
      "* A Silent Voice\n",
      "* Spirited Away\n",
      "* My Neighbor Totoro\n",
      "* Kiki's Delivery Service\n",
      "* Howl's Moving Castle\n",
      "* Princess Mononoke\n",
      "* The Tale of the Princess Kaguya\n",
      "* Grave of the Fireflies\n",
      "* When Marnie Was There\n",
      "* The Wind Rises\n",
      "* Your Name.\n",
      "\n",
      "If you are looking for a specific anime show or movie, you can use the search bar on Anime-Planet. You can also browse anime by genre, popularity, or release date.\n",
      "\n",
      "Once you have found an anime show or movie that you want to watch, you can click on the title to view more information about it. You can also watch a trailer, read reviews, and add the anime to your watchlist.\n",
      "\n",
      "To watch an anime show or movie, simply click on the play button. You can watch anime online or download it to your computer.\n",
      "\n",
      "If you are enjoying an anime show or movie, you can rate it and leave a review. You can also share your thoughts on social media.\n",
      "\n",
      "I hope this helps! Let me know if you have any other questions.\n",
      "----------------------------------------------------------------------------------------------------------------------\n"
     ]
    }
   ],
   "source": [
    "user_data = {\"name\":None,\"birthday\":None,\"Address\":None,\"Phone-Number\":None,\"Email\":None}\n",
    "\n",
    "print(\"Hi How are you what would you like to know about ???\")\n",
    "while True:\n",
    "    if user_data['name']!=None:\n",
    "                    model.username = user_data['name']\n",
    "    user_input = str(input())\n",
    "    model.sentence = user_input\n",
    "    ans = model.user_promt()\n",
    "    print(\"----------------------------------------------------------------------------------------------------------------------\")\n",
    "    print(\"Chatbot response : \", ans)\n",
    "    print(\"----------------------------------------------------------------------------------------------------------------------\")\n",
    "    model.check_tone()\n",
    "    if model.user_tone:\n",
    "        for key, value in user_data.items():\n",
    "            if value is None:\n",
    "     \n",
    "                question = model.ask_user(key)\n",
    "                result_string = re.sub(pattern, '', question)\n",
    "                print(\"----------------------------------------------------------------------------------------------------------------------\")\n",
    "                print(\"Chatbot response:\",result_string)\n",
    "                print(\"----------------------------------------------------------------------------------------------------------------------\")\n",
    "                user_response = input()\n",
    "                \n",
    "                if key ==  'name':\n",
    "                    print(\"----------------------------------------------------------------------------------------------------------------------\")\n",
    "                    print(\"Chatbot response: Nice to mee you\",user_response)\n",
    "                    print(\"----------------------------------------------------------------------------------------------------------------------\")\n",
    "                if key == 'birthday':\n",
    "                    predection = model.validate_birthday(user_response)\n",
    "                    if predection:\n",
    "                        user_data['birthday'] = user_response\n",
    "                    else:\n",
    "                        print(\"----------------------------------------------------------------------------------------------------------------------\")\n",
    "                        print(\"Chatbot response : No problem lets continue with our Topic today\")\n",
    "                        print(\"----------------------------------------------------------------------------------------------------------------------\")\n",
    "                        break\n",
    "                elif key == 'Address':\n",
    "                  \n",
    "                        user_data['Address'] = user_response\n",
    "        \n",
    "                elif key == 'name':\n",
    "                   \n",
    "                        user_data['name'] = user_response\n",
    "                \n",
    "                elif key == 'Email':\n",
    "                    if validate_email(user_response):\n",
    "                        user_data['Email'] = user_response\n",
    "                    else:\n",
    "                        print(\"----------------------------------------------------------------------------------------------------------------------\")\n",
    "                        print(\"Chatbot response : No problem lets continue with our Topic today\")\n",
    "                        print(\"----------------------------------------------------------------------------------------------------------------------\")\n",
    "                        break\n",
    "                elif key == 'Phone-Number':\n",
    "                    if model.validate_phone_number(user_response):\n",
    "                        user_data['Phone-Number'] = user_response\n",
    "                    else:\n",
    "                        print(\"----------------------------------------------------------------------------------------------------------------------\")\n",
    "                        print(\"Chatbot response : No problem lets continue with our Topic today\")\n",
    "                        print(\"----------------------------------------------------------------------------------------------------------------------\")\n",
    "                        break\n",
    "                    \n",
    "                \n",
    "                "
   ]
  },
  {
   "cell_type": "code",
   "execution_count": 7,
   "id": "25fd89f9-cad2-4a0b-86c9-61d8892a2ba4",
   "metadata": {},
   "outputs": [
    {
     "data": {
      "text/plain": [
       "{'name': 'sahil',\n",
       " 'birthday': '2001-11-16',\n",
       " 'Address': None,\n",
       " 'Phone-Number': None,\n",
       " 'Email': None}"
      ]
     },
     "execution_count": 7,
     "metadata": {},
     "output_type": "execute_result"
    }
   ],
   "source": [
    "user_data"
   ]
  },
  {
   "cell_type": "code",
   "execution_count": null,
   "id": "4ec40f45-5b12-4601-a3b4-c3444bf34597",
   "metadata": {},
   "outputs": [],
   "source": [
    "import pandas as pd\n",
    "\n",
    "# Sample dictionary\n",
    "\n",
    "\n",
    "# Create a DataFrame from the dictionary\n",
    "df = pd.DataFrame(user_data)\n",
    "\n",
    "# Specify the CSV file name\n",
    "csv_file = 'data.csv'\n",
    "\n",
    "# Save the DataFrame to a CSV file\n",
    "df.to_csv(csv_file, index=False)\n",
    "\n",
    "print(f'Data has been successfully written to {csv_file}')\n"
   ]
  },
  {
   "cell_type": "code",
   "execution_count": null,
   "id": "1e637902-ed16-4e00-a569-ad7d6aaee983",
   "metadata": {},
   "outputs": [],
   "source": [
    "LLMChain.generate(\"To help us celebrate your special day \")"
   ]
  },
  {
   "cell_type": "code",
   "execution_count": null,
   "id": "cc5a4227-448a-43f1-a627-84cd9999d644",
   "metadata": {},
   "outputs": [],
   "source": [
    "user_data"
   ]
  },
  {
   "cell_type": "code",
   "execution_count": null,
   "id": "11d5d41b-2e3b-4669-9eff-14832ca2e50c",
   "metadata": {},
   "outputs": [],
   "source": [
    "df"
   ]
  },
  {
   "cell_type": "code",
   "execution_count": null,
   "id": "eb1276fe-91a0-4921-9c0a-c9fe97570551",
   "metadata": {},
   "outputs": [],
   "source": []
  }
 ],
 "metadata": {
  "kernelspec": {
   "display_name": "Python 3 (ipykernel)",
   "language": "python",
   "name": "python3"
  },
  "language_info": {
   "codemirror_mode": {
    "name": "ipython",
    "version": 3
   },
   "file_extension": ".py",
   "mimetype": "text/x-python",
   "name": "python",
   "nbconvert_exporter": "python",
   "pygments_lexer": "ipython3",
   "version": "3.11.5"
  }
 },
 "nbformat": 4,
 "nbformat_minor": 5
}
