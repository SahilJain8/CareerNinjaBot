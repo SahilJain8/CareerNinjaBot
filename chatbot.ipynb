{
 "cells": [
  {
   "cell_type": "code",
   "execution_count": 25,
   "id": "e9959569-d9f3-4347-aed9-e865209e353e",
   "metadata": {},
   "outputs": [],
   "source": [
    "from langchain.prompts import  PromptTemplate\n",
    "from langchain.tools import DuckDuckGoSearchRun\n",
    "from langchain.agents import Tool\n",
    "from langchain.agents import AgentType\n",
    "from langchain.agents import initialize_agent\n",
    "from langchain.memory import ConversationBufferMemory\n",
    "from langchain.chat_models import ChatGooglePalm\n",
    "from langchain import LLMChain\n",
    "from langchain.llms import GooglePalm\n",
    "import re\n",
    "from key import google_api_key\n",
    "from datetime import datetime\n",
    "\n",
    "pattern = r'[^\\w\\s]'\n",
    "    \n",
    "\n",
    "search = DuckDuckGoSearchRun()\n",
    "tools = [\n",
    "    Tool(\n",
    "        name = \"Current Search\",\n",
    "        func=search.run,\n",
    "        description=\"useful for when you need to answer questions about current events or the current state of the world\"\n",
    "    ),\n",
    "]\n",
    "\n"
   ]
  },
  {
   "cell_type": "code",
   "execution_count": 26,
   "id": "7c7fa741-761d-4fd6-a6a6-a0d8c084140e",
   "metadata": {},
   "outputs": [],
   "source": [
    "class careerNinjaModel:\n",
    "    def __init__(self,open_api_key = None):\n",
    "        #Model declaration to chat with the user\n",
    "\n",
    "        self.username = None\n",
    "        self.llm_chat = ChatGooglePalm(google_api_key = google_api_key)\n",
    "     \n",
    "        self.memory = ConversationBufferMemory(memory_key=\"chat_history\", return_messages=True)\n",
    "        self.careerNinjaModel_llm  = initialize_agent(tools,\n",
    "                               self.llm_chat,\n",
    "                               agent=AgentType.CHAT_CONVERSATIONAL_REACT_DESCRIPTION,\n",
    "                                verbose=False,\n",
    "                            handle_parsing_errors=True,\n",
    "                              memory=self.memory)\n",
    "\n",
    "        #Model declaration to check the tone of the sentences\n",
    "        self.prompt_template  = PromptTemplate(\n",
    "                input_variables=['topic'],\n",
    "                template=\"Please analyze the tone of content related to '{topic}' and classify it as either friendly or non-friendly.no additional information\" )\n",
    "        self.check_tone_model  =LLMChain(prompt=self.prompt_template,llm=GooglePalm(google_api_key = google_api_key))\n",
    "        self.sentence = None\n",
    "        self.user_tone = None\n",
    "\n",
    "        \n",
    "        #Model declaration to collect user information\n",
    "        self.data_prompt_template = PromptTemplate(\n",
    "                input_variables=['user_deatils'],\n",
    "                template=\"Ask the user politely and in a innovative way about there {user_deatils} in English only one question in first person\" )\n",
    "        self.user_data_model  =LLMChain(prompt=self.data_prompt_template,llm=ChatGooglePalm(google_api_key = google_api_key))\n",
    "        self.verification = None\n",
    "        \n",
    "\n",
    "    def check_tone(self):\n",
    "        try:\n",
    "            predection = self.check_tone_model.run(topic = self.sentence)\n",
    "            if predection == \"friendly\":\n",
    "                self.user_tone = True\n",
    "            else:\n",
    "                self.user_tone = False      \n",
    "        except Exception as e:\n",
    "             self.user_tone = False\n",
    "\n",
    "    \n",
    "    def user_promt(self):\n",
    "        ans = self.careerNinjaModel_llm(self.sentence)\n",
    "        if self.username != None:\n",
    "            return \"Hello \" +self.username + \"Information is\" + ans['output']\n",
    "        return ans\n",
    "\n",
    "    \n",
    "    def ask_user(self,detail):\n",
    "    \n",
    "        question = self.user_data_model.run(user_deatils = detail)\n",
    "        return question\n",
    "\n",
    "    \n",
    "    def check_user_details(self,text,key):\n",
    "        data_prompt_template = PromptTemplate(\n",
    "                    input_variables=['key','text'],\n",
    "                    template=\"Is this {text} valid {key} just give the answer as yes or no\" )\n",
    "        \n",
    "        user_model_check = LLMChain(prompt=data_prompt_template,llm=GooglePalm(google_api_key = google_api_key))\n",
    "        try:\n",
    "            predection = user_model_check.run(key = key,text = text)\n",
    "            if predection == \"yes\":\n",
    "                self.verification = True\n",
    "            else:\n",
    "                self.verification = False\n",
    "        except Exception as e:\n",
    "            self.verification = False\n",
    "\n",
    "    from datetime import datetime\n",
    "\n",
    "    def validate_birthday(self,birthday):\n",
    "        try:\n",
    "            birthdate = datetime.strptime(birthday, '%Y-%m-%d')\n",
    "            \n",
    "\n",
    "            current_date = datetime.now()\n",
    "            \n",
    "            age = current_date.year - birthdate.year - ((current_date.month, current_date.day) < (birthdate.month, birthdate.day))\n",
    "            if age < 150 and birthdate <= current_date:\n",
    "                return True,\n",
    "            else:\n",
    "                return False\n",
    "        except ValueError:\n",
    "            return False\n",
    "            \n",
    "    def validate_phone_number(self,phone_number):\n",
    "\n",
    "            pattern = r'^\\d{10}$'\n",
    "            if re.match(pattern, phone_number):\n",
    "                return True\n",
    "            else:\n",
    "                return False\n",
    "                \n",
    "    def validate_email(self,email):\n",
    " \n",
    "            pattern = r'^[a-zA-Z0-9._%+-]+@[a-zA-Z0-9.-]+\\.[a-zA-Z]{2,}$'\n",
    "            if re.match(pattern, email):\n",
    "                return True\n",
    "            else:\n",
    "                return False\n",
    "            \n",
    "        \n",
    "        \n",
    "model = careerNinjaModel()      "
   ]
  },
  {
   "cell_type": "code",
   "execution_count": null,
   "id": "bbef1676-9600-4672-b463-f0e8b49ddeef",
   "metadata": {},
   "outputs": [
    {
     "name": "stdout",
     "output_type": "stream",
     "text": [
      "Hi How are you what would you like to know about ???\n"
     ]
    },
    {
     "name": "stdout",
     "output_type": "stream",
     "text": [
      " hiii how are youuu\n"
     ]
    },
    {
     "name": "stdout",
     "output_type": "stream",
     "text": [
      "----------------------------------------------------------------------------------------------------------------------\n",
      "Chatbot response :  Hello sahilInformation isAnime is a style of animation popular in Japan. It is characterized by its distinctive art style, which often features large eyes, vibrant colors, and fantastical settings. Anime can be found in a variety of genres, including action, adventure, comedy, drama, romance, and science fiction. It is enjoyed by people of all ages, and has become a popular form of entertainment around the world.\n",
      "\n",
      "You can watch anime online on Anime-Planet. Anime-Planet is a website that offers a wide variety of anime shows and movies. You can watch anime for free on Anime-Planet, but you will need to create an account. Once you have created an account, you can watch anime online or download it to your computer.\n",
      "\n",
      "Here are some of the most popular anime shows and movies that you can watch on Anime-Planet:\n",
      "\n",
      "* Naruto\n",
      "* One Piece\n",
      "* Dragon Ball Z\n",
      "* Bleach\n",
      "* Fairy Tail\n",
      "* Attack on Titan\n",
      "* Death Note\n",
      "* Code Geass\n",
      "* Fullmetal Alchemist: Brotherhood\n",
      "* Steins;Gate\n",
      "* Clannad\n",
      "* Anohana: The Flower We Saw That Day\n",
      "* Your Lie in April\n",
      "* Violet Evergarden\n",
      "* A Silent Voice\n",
      "* Spirited Away\n",
      "* My Neighbor Totoro\n",
      "* Kiki's Delivery Service\n",
      "* Howl's Moving Castle\n",
      "* Princess Mononoke\n",
      "* The Tale of the Princess Kaguya\n",
      "* Grave of the Fireflies\n",
      "* When Marnie Was There\n",
      "* The Wind Rises\n",
      "* Your Name.\n",
      "----------------------------------------------------------------------------------------------------------------------\n",
      "----------------------------------------------------------------------------------------------------------------------\n",
      "Chatbot response: Hello Im glad to meet you May I know your name\n",
      "----------------------------------------------------------------------------------------------------------------------\n"
     ]
    },
    {
     "name": "stdout",
     "output_type": "stream",
     "text": [
      " sahil\n"
     ]
    },
    {
     "name": "stdout",
     "output_type": "stream",
     "text": [
      "----------------------------------------------------------------------------------------------------------------------\n",
      "Chatbot response: Nice to mee you sahil\n",
      "----------------------------------------------------------------------------------------------------------------------\n",
      "----------------------------------------------------------------------------------------------------------------------\n",
      "Chatbot response: Hi there Im just curious when is your birthday Id love to wish you a happy birthday on the day itself\n",
      "----------------------------------------------------------------------------------------------------------------------\n"
     ]
    },
    {
     "name": "stdout",
     "output_type": "stream",
     "text": [
      " 2001-11-16\n"
     ]
    },
    {
     "name": "stdout",
     "output_type": "stream",
     "text": [
      "----------------------------------------------------------------------------------------------------------------------\n",
      "Chatbot response: Hi there Im trying to help you with your address Could you please tell me where you live Ill only need your street address city state and zip code Thanks\n",
      "----------------------------------------------------------------------------------------------------------------------\n"
     ]
    },
    {
     "name": "stdout",
     "output_type": "stream",
     "text": [
      " House no 148,3rd block,vijaynagar,mysore,karnataka india \n"
     ]
    },
    {
     "name": "stdout",
     "output_type": "stream",
     "text": [
      "----------------------------------------------------------------------------------------------------------------------\n",
      "Chatbot response: Hi there Im a virtual assistant that can help you with a variety of tasks In order to better assist you may I have your phone number I promise I wont spam you or sell your information\n",
      "----------------------------------------------------------------------------------------------------------------------\n"
     ]
    },
    {
     "name": "stdout",
     "output_type": "stream",
     "text": [
      " 9980670768\n"
     ]
    },
    {
     "name": "stdout",
     "output_type": "stream",
     "text": [
      "----------------------------------------------------------------------------------------------------------------------\n",
      "Chatbot response : No problem lets continue with our Topic today\n",
      "----------------------------------------------------------------------------------------------------------------------\n"
     ]
    },
    {
     "name": "stdout",
     "output_type": "stream",
     "text": [
      " anime\n"
     ]
    },
    {
     "name": "stdout",
     "output_type": "stream",
     "text": [
      "----------------------------------------------------------------------------------------------------------------------\n",
      "Chatbot response :  Hello sahilInformation isAnime is a style of animation popular in Japan. It is characterized by its distinctive art style, which often features large eyes, vibrant colors, and fantastical settings. Anime can be found in a variety of genres, including action, adventure, comedy, drama, romance, and science fiction. It is enjoyed by people of all ages, and has become a popular form of entertainment around the world.\n",
      "\n",
      "You can watch anime online on Anime-Planet. Anime-Planet is a website that offers a wide variety of anime shows and movies. You can watch anime for free on Anime-Planet, but you will need to create an account. Once you have created an account, you can watch anime online or download it to your computer.\n",
      "\n",
      "Here are some of the most popular anime shows and movies that you can watch on Anime-Planet:\n",
      "\n",
      "* Naruto\n",
      "* One Piece\n",
      "* Dragon Ball Z\n",
      "* Bleach\n",
      "* Fairy Tail\n",
      "* Attack on Titan\n",
      "* Death Note\n",
      "* Code Geass\n",
      "* Fullmetal Alchemist: Brotherhood\n",
      "* Steins;Gate\n",
      "* Clannad\n",
      "* Anohana: The Flower We Saw That Day\n",
      "* Your Lie in April\n",
      "* Violet Evergarden\n",
      "* A Silent Voice\n",
      "* Spirited Away\n",
      "* My Neighbor Totoro\n",
      "* Kiki's Delivery Service\n",
      "* Howl's Moving Castle\n",
      "* Princess Mononoke\n",
      "* The Tale of the Princess Kaguya\n",
      "* Grave of the Fireflies\n",
      "* When Marnie Was There\n",
      "* The Wind Rises\n",
      "* Your Name.\n",
      "\n",
      "If you are looking for a specific anime show or movie, you can use the search bar on Anime-Planet. You can also browse anime by genre, popularity, or release date.\n",
      "\n",
      "Once you have found an anime show or movie that you want to watch, you can click on the title to view more information about it. You can also watch a trailer, read reviews, and add the anime to your watchlist.\n",
      "\n",
      "To watch an anime show or movie, simply click on the play button. You can watch anime online or download it to your computer.\n",
      "\n",
      "If you are enjoying an anime show or movie, you can rate it and leave a review. You can also share your thoughts on social media.\n",
      "\n",
      "I hope this helps! Let me know if you have any other questions.\n",
      "----------------------------------------------------------------------------------------------------------------------\n"
     ]
    }
   ],
   "source": [
    "user_data = {\"name\":None,\"birthday\":None,\"Address\":None,\"Phone-Number\":None,\"Email\":None}\n",
    "\n",
    "print(\"Hi How are you what would you like to know about ???\")\n",
    "while True:\n",
    "    if user_data['name']!=None:\n",
    "                    model.username = user_data['name']\n",
    "    user_input = str(input())\n",
    "    model.sentence = user_input\n",
    "    ans = model.user_promt()\n",
    "    print(\"----------------------------------------------------------------------------------------------------------------------\")\n",
    "    print(\"Chatbot response : \", ans)\n",
    "    print(\"----------------------------------------------------------------------------------------------------------------------\")\n",
    "    model.check_tone()\n",
    "    if model.user_tone:\n",
    "        for key, value in user_data.items():\n",
    "            if value is None:\n",
    "     \n",
    "                question = model.ask_user(key)\n",
    "                result_string = re.sub(pattern, '', question)\n",
    "                print(\"----------------------------------------------------------------------------------------------------------------------\")\n",
    "                print(\"Chatbot response:\",result_string)\n",
    "                print(\"----------------------------------------------------------------------------------------------------------------------\")\n",
    "                user_response = input()\n",
    "                \n",
    "                if key ==  'name':\n",
    "                    print(\"----------------------------------------------------------------------------------------------------------------------\")\n",
    "                    print(\"Chatbot response: Nice to mee you\",user_response)\n",
    "                    print(\"----------------------------------------------------------------------------------------------------------------------\")\n",
    "                if key == 'birthday':\n",
    "                    predection = model.validate_birthday(user_response)\n",
    "                    if predection:\n",
    "                        user_data['birthday'] = user_response\n",
    "                    else:\n",
    "                        print(\"----------------------------------------------------------------------------------------------------------------------\")\n",
    "                        print(\"Chatbot response : No problem lets continue with our Topic today\")\n",
    "                        print(\"----------------------------------------------------------------------------------------------------------------------\")\n",
    "                        break\n",
    "                elif key == 'address':\n",
    "                if validate_address(user_response):\n",
    "                    user_data['address'] = user_response\n",
    "                else:\n",
    "                        print(\"----------------------------------------------------------------------------------------------------------------------\")\n",
    "                        print(\"Chatbot response : No problem lets continue with our Topic today\")\n",
    "                        print(\"----------------------------------------------------------------------------------------------------------------------\")\n",
    "                        break\n",
    "                elif key == 'name':\n",
    "                    if validate_name(user_response):\n",
    "                        user_data['name'] = user_response\n",
    "                    else:\n",
    "                        print(\"----------------------------------------------------------------------------------------------------------------------\")\n",
    "                        print(\"Chatbot response : No problem lets continue with our Topic today\")\n",
    "                        print(\"----------------------------------------------------------------------------------------------------------------------\")\n",
    "                        break\n",
    "                elif key == 'email':\n",
    "                    if validate_email(user_response):\n",
    "                        user_data['email'] = user_response\n",
    "                    else:\n",
    "                        print(\"----------------------------------------------------------------------------------------------------------------------\")\n",
    "                        print(\"Chatbot response : No problem lets continue with our Topic today\")\n",
    "                        print(\"----------------------------------------------------------------------------------------------------------------------\")\n",
    "                        break\n",
    "                elif key == 'phone_number':\n",
    "                    if validate_phone_number(user_response):\n",
    "                        user_data['phone_number'] = user_response\n",
    "                    else:\n",
    "                        print(\"----------------------------------------------------------------------------------------------------------------------\")\n",
    "                        print(\"Chatbot response : No problem lets continue with our Topic today\")\n",
    "                        print(\"----------------------------------------------------------------------------------------------------------------------\")\n",
    "                        break\n",
    "                    \n",
    "                \n",
    "                "
   ]
  },
  {
   "cell_type": "code",
   "execution_count": null,
   "id": "25fd89f9-cad2-4a0b-86c9-61d8892a2ba4",
   "metadata": {},
   "outputs": [],
   "source": [
    "user_data"
   ]
  },
  {
   "cell_type": "code",
   "execution_count": 5,
   "id": "4ec40f45-5b12-4601-a3b4-c3444bf34597",
   "metadata": {},
   "outputs": [
    {
     "ename": "ValueError",
     "evalue": "If using all scalar values, you must pass an index",
     "output_type": "error",
     "traceback": [
      "\u001b[1;31m---------------------------------------------------------------------------\u001b[0m",
      "\u001b[1;31mValueError\u001b[0m                                Traceback (most recent call last)",
      "Cell \u001b[1;32mIn[5], line 7\u001b[0m\n\u001b[0;32m      1\u001b[0m \u001b[38;5;28;01mimport\u001b[39;00m \u001b[38;5;21;01mpandas\u001b[39;00m \u001b[38;5;28;01mas\u001b[39;00m \u001b[38;5;21;01mpd\u001b[39;00m\n\u001b[0;32m      3\u001b[0m \u001b[38;5;66;03m# Sample dictionary\u001b[39;00m\n\u001b[0;32m      4\u001b[0m \n\u001b[0;32m      5\u001b[0m \n\u001b[0;32m      6\u001b[0m \u001b[38;5;66;03m# Create a DataFrame from the dictionary\u001b[39;00m\n\u001b[1;32m----> 7\u001b[0m df \u001b[38;5;241m=\u001b[39m \u001b[43mpd\u001b[49m\u001b[38;5;241;43m.\u001b[39;49m\u001b[43mDataFrame\u001b[49m\u001b[43m(\u001b[49m\u001b[43muser_data\u001b[49m\u001b[43m)\u001b[49m\n\u001b[0;32m      9\u001b[0m \u001b[38;5;66;03m# Specify the CSV file name\u001b[39;00m\n\u001b[0;32m     10\u001b[0m csv_file \u001b[38;5;241m=\u001b[39m \u001b[38;5;124m'\u001b[39m\u001b[38;5;124mdata.csv\u001b[39m\u001b[38;5;124m'\u001b[39m\n",
      "File \u001b[1;32m~\\miniconda3\\envs\\torch-gpu\\Lib\\site-packages\\pandas\\core\\frame.py:736\u001b[0m, in \u001b[0;36mDataFrame.__init__\u001b[1;34m(self, data, index, columns, dtype, copy)\u001b[0m\n\u001b[0;32m    730\u001b[0m     mgr \u001b[38;5;241m=\u001b[39m \u001b[38;5;28mself\u001b[39m\u001b[38;5;241m.\u001b[39m_init_mgr(\n\u001b[0;32m    731\u001b[0m         data, axes\u001b[38;5;241m=\u001b[39m{\u001b[38;5;124m\"\u001b[39m\u001b[38;5;124mindex\u001b[39m\u001b[38;5;124m\"\u001b[39m: index, \u001b[38;5;124m\"\u001b[39m\u001b[38;5;124mcolumns\u001b[39m\u001b[38;5;124m\"\u001b[39m: columns}, dtype\u001b[38;5;241m=\u001b[39mdtype, copy\u001b[38;5;241m=\u001b[39mcopy\n\u001b[0;32m    732\u001b[0m     )\n\u001b[0;32m    734\u001b[0m \u001b[38;5;28;01melif\u001b[39;00m \u001b[38;5;28misinstance\u001b[39m(data, \u001b[38;5;28mdict\u001b[39m):\n\u001b[0;32m    735\u001b[0m     \u001b[38;5;66;03m# GH#38939 de facto copy defaults to False only in non-dict cases\u001b[39;00m\n\u001b[1;32m--> 736\u001b[0m     mgr \u001b[38;5;241m=\u001b[39m \u001b[43mdict_to_mgr\u001b[49m\u001b[43m(\u001b[49m\u001b[43mdata\u001b[49m\u001b[43m,\u001b[49m\u001b[43m \u001b[49m\u001b[43mindex\u001b[49m\u001b[43m,\u001b[49m\u001b[43m \u001b[49m\u001b[43mcolumns\u001b[49m\u001b[43m,\u001b[49m\u001b[43m \u001b[49m\u001b[43mdtype\u001b[49m\u001b[38;5;241;43m=\u001b[39;49m\u001b[43mdtype\u001b[49m\u001b[43m,\u001b[49m\u001b[43m \u001b[49m\u001b[43mcopy\u001b[49m\u001b[38;5;241;43m=\u001b[39;49m\u001b[43mcopy\u001b[49m\u001b[43m,\u001b[49m\u001b[43m \u001b[49m\u001b[43mtyp\u001b[49m\u001b[38;5;241;43m=\u001b[39;49m\u001b[43mmanager\u001b[49m\u001b[43m)\u001b[49m\n\u001b[0;32m    737\u001b[0m \u001b[38;5;28;01melif\u001b[39;00m \u001b[38;5;28misinstance\u001b[39m(data, ma\u001b[38;5;241m.\u001b[39mMaskedArray):\n\u001b[0;32m    738\u001b[0m     \u001b[38;5;28;01mfrom\u001b[39;00m \u001b[38;5;21;01mnumpy\u001b[39;00m\u001b[38;5;21;01m.\u001b[39;00m\u001b[38;5;21;01mma\u001b[39;00m \u001b[38;5;28;01mimport\u001b[39;00m mrecords\n",
      "File \u001b[1;32m~\\miniconda3\\envs\\torch-gpu\\Lib\\site-packages\\pandas\\core\\internals\\construction.py:503\u001b[0m, in \u001b[0;36mdict_to_mgr\u001b[1;34m(data, index, columns, dtype, typ, copy)\u001b[0m\n\u001b[0;32m    499\u001b[0m     \u001b[38;5;28;01melse\u001b[39;00m:\n\u001b[0;32m    500\u001b[0m         \u001b[38;5;66;03m# dtype check to exclude e.g. range objects, scalars\u001b[39;00m\n\u001b[0;32m    501\u001b[0m         arrays \u001b[38;5;241m=\u001b[39m [x\u001b[38;5;241m.\u001b[39mcopy() \u001b[38;5;28;01mif\u001b[39;00m \u001b[38;5;28mhasattr\u001b[39m(x, \u001b[38;5;124m\"\u001b[39m\u001b[38;5;124mdtype\u001b[39m\u001b[38;5;124m\"\u001b[39m) \u001b[38;5;28;01melse\u001b[39;00m x \u001b[38;5;28;01mfor\u001b[39;00m x \u001b[38;5;129;01min\u001b[39;00m arrays]\n\u001b[1;32m--> 503\u001b[0m \u001b[38;5;28;01mreturn\u001b[39;00m \u001b[43marrays_to_mgr\u001b[49m\u001b[43m(\u001b[49m\u001b[43marrays\u001b[49m\u001b[43m,\u001b[49m\u001b[43m \u001b[49m\u001b[43mcolumns\u001b[49m\u001b[43m,\u001b[49m\u001b[43m \u001b[49m\u001b[43mindex\u001b[49m\u001b[43m,\u001b[49m\u001b[43m \u001b[49m\u001b[43mdtype\u001b[49m\u001b[38;5;241;43m=\u001b[39;49m\u001b[43mdtype\u001b[49m\u001b[43m,\u001b[49m\u001b[43m \u001b[49m\u001b[43mtyp\u001b[49m\u001b[38;5;241;43m=\u001b[39;49m\u001b[43mtyp\u001b[49m\u001b[43m,\u001b[49m\u001b[43m \u001b[49m\u001b[43mconsolidate\u001b[49m\u001b[38;5;241;43m=\u001b[39;49m\u001b[43mcopy\u001b[49m\u001b[43m)\u001b[49m\n",
      "File \u001b[1;32m~\\miniconda3\\envs\\torch-gpu\\Lib\\site-packages\\pandas\\core\\internals\\construction.py:114\u001b[0m, in \u001b[0;36marrays_to_mgr\u001b[1;34m(arrays, columns, index, dtype, verify_integrity, typ, consolidate)\u001b[0m\n\u001b[0;32m    111\u001b[0m \u001b[38;5;28;01mif\u001b[39;00m verify_integrity:\n\u001b[0;32m    112\u001b[0m     \u001b[38;5;66;03m# figure out the index, if necessary\u001b[39;00m\n\u001b[0;32m    113\u001b[0m     \u001b[38;5;28;01mif\u001b[39;00m index \u001b[38;5;129;01mis\u001b[39;00m \u001b[38;5;28;01mNone\u001b[39;00m:\n\u001b[1;32m--> 114\u001b[0m         index \u001b[38;5;241m=\u001b[39m \u001b[43m_extract_index\u001b[49m\u001b[43m(\u001b[49m\u001b[43marrays\u001b[49m\u001b[43m)\u001b[49m\n\u001b[0;32m    115\u001b[0m     \u001b[38;5;28;01melse\u001b[39;00m:\n\u001b[0;32m    116\u001b[0m         index \u001b[38;5;241m=\u001b[39m ensure_index(index)\n",
      "File \u001b[1;32m~\\miniconda3\\envs\\torch-gpu\\Lib\\site-packages\\pandas\\core\\internals\\construction.py:667\u001b[0m, in \u001b[0;36m_extract_index\u001b[1;34m(data)\u001b[0m\n\u001b[0;32m    664\u001b[0m         \u001b[38;5;28;01mraise\u001b[39;00m \u001b[38;5;167;01mValueError\u001b[39;00m(\u001b[38;5;124m\"\u001b[39m\u001b[38;5;124mPer-column arrays must each be 1-dimensional\u001b[39m\u001b[38;5;124m\"\u001b[39m)\n\u001b[0;32m    666\u001b[0m \u001b[38;5;28;01mif\u001b[39;00m \u001b[38;5;129;01mnot\u001b[39;00m indexes \u001b[38;5;129;01mand\u001b[39;00m \u001b[38;5;129;01mnot\u001b[39;00m raw_lengths:\n\u001b[1;32m--> 667\u001b[0m     \u001b[38;5;28;01mraise\u001b[39;00m \u001b[38;5;167;01mValueError\u001b[39;00m(\u001b[38;5;124m\"\u001b[39m\u001b[38;5;124mIf using all scalar values, you must pass an index\u001b[39m\u001b[38;5;124m\"\u001b[39m)\n\u001b[0;32m    669\u001b[0m \u001b[38;5;28;01mif\u001b[39;00m have_series:\n\u001b[0;32m    670\u001b[0m     index \u001b[38;5;241m=\u001b[39m union_indexes(indexes)\n",
      "\u001b[1;31mValueError\u001b[0m: If using all scalar values, you must pass an index"
     ]
    }
   ],
   "source": [
    "import pandas as pd\n",
    "\n",
    "# Sample dictionary\n",
    "\n",
    "\n",
    "# Create a DataFrame from the dictionary\n",
    "df = pd.DataFrame(user_data)\n",
    "\n",
    "# Specify the CSV file name\n",
    "csv_file = 'data.csv'\n",
    "\n",
    "# Save the DataFrame to a CSV file\n",
    "df.to_csv(csv_file, index=False)\n",
    "\n",
    "print(f'Data has been successfully written to {csv_file}')\n"
   ]
  },
  {
   "cell_type": "code",
   "execution_count": null,
   "id": "1e637902-ed16-4e00-a569-ad7d6aaee983",
   "metadata": {},
   "outputs": [],
   "source": [
    "LLMChain.generate(\"To help us celebrate your special day \")"
   ]
  },
  {
   "cell_type": "code",
   "execution_count": 6,
   "id": "cc5a4227-448a-43f1-a627-84cd9999d644",
   "metadata": {},
   "outputs": [
    {
     "data": {
      "text/plain": [
       "{'name': 'sahil',\n",
       " 'birthday': None,\n",
       " 'Address': None,\n",
       " 'Phone-Number': None,\n",
       " 'Email': None}"
      ]
     },
     "execution_count": 6,
     "metadata": {},
     "output_type": "execute_result"
    }
   ],
   "source": [
    "user_data"
   ]
  },
  {
   "cell_type": "code",
   "execution_count": 7,
   "id": "11d5d41b-2e3b-4669-9eff-14832ca2e50c",
   "metadata": {},
   "outputs": [
    {
     "ename": "NameError",
     "evalue": "name 'df' is not defined",
     "output_type": "error",
     "traceback": [
      "\u001b[1;31m---------------------------------------------------------------------------\u001b[0m",
      "\u001b[1;31mNameError\u001b[0m                                 Traceback (most recent call last)",
      "Cell \u001b[1;32mIn[7], line 1\u001b[0m\n\u001b[1;32m----> 1\u001b[0m \u001b[43mdf\u001b[49m\n",
      "\u001b[1;31mNameError\u001b[0m: name 'df' is not defined"
     ]
    }
   ],
   "source": [
    "df"
   ]
  },
  {
   "cell_type": "code",
   "execution_count": null,
   "id": "eb1276fe-91a0-4921-9c0a-c9fe97570551",
   "metadata": {},
   "outputs": [],
   "source": []
  }
 ],
 "metadata": {
  "kernelspec": {
   "display_name": "Python 3 (ipykernel)",
   "language": "python",
   "name": "python3"
  },
  "language_info": {
   "codemirror_mode": {
    "name": "ipython",
    "version": 3
   },
   "file_extension": ".py",
   "mimetype": "text/x-python",
   "name": "python",
   "nbconvert_exporter": "python",
   "pygments_lexer": "ipython3",
   "version": "3.11.5"
  }
 },
 "nbformat": 4,
 "nbformat_minor": 5
}
