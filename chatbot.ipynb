{
 "cells": [
  {
   "cell_type": "code",
   "execution_count": 1,
   "id": "e9959569-d9f3-4347-aed9-e865209e353e",
   "metadata": {},
   "outputs": [],
   "source": [
    "from langchain.prompts import  PromptTemplate\n",
    "from langchain.tools import DuckDuckGoSearchRun\n",
    "from langchain.agents import Tool\n",
    "from langchain.agents import AgentType\n",
    "from langchain.agents import initialize_agent\n",
    "from langchain.memory import ConversationBufferMemory\n",
    "from langchain.chat_models import ChatGooglePalm\n",
    "from langchain import LLMChain\n",
    "from langchain.llms import GooglePalm\n",
    "import re\n",
    "from key import google_api_key\n",
    "from datetime import datetime\n",
    "import pandas as pd\n",
    "\n",
    "\n",
    "pattern = r'[^\\w\\s]'\n",
    "    \n",
    "\n",
    "search = DuckDuckGoSearchRun()\n",
    "tools = [\n",
    "    Tool(\n",
    "        name = \"Current Search\",\n",
    "        func=search.run,\n",
    "        description=\"useful for when you need to answer questions about current events or the current state of the world\"\n",
    "    ),\n",
    "]\n",
    "\n"
   ]
  },
  {
   "cell_type": "code",
   "execution_count": 38,
   "id": "7c7fa741-761d-4fd6-a6a6-a0d8c084140e",
   "metadata": {},
   "outputs": [],
   "source": [
    "class careerNinjaModel:\n",
    "    def __init__(self):\n",
    "        #Model declaration to chat with the user\n",
    "\n",
    "        self.username = None\n",
    "        self.llm_chat = ChatGooglePalm(google_api_key = google_api_key)\n",
    "     \n",
    "        self.memory = ConversationBufferMemory(memory_key=\"chat_history\", return_messages=True)\n",
    "        self.careerNinjaModel_llm  = initialize_agent(tools,\n",
    "                               self.llm_chat,\n",
    "                               agent=AgentType.CHAT_CONVERSATIONAL_REACT_DESCRIPTION,\n",
    "                                verbose=False,\n",
    "                            handle_parsing_errors=True,\n",
    "                              memory=self.memory)\n",
    "\n",
    "        #Model declaration to check the tone of the sentences\n",
    "        self.prompt_template  = PromptTemplate(\n",
    "                input_variables=['topic'],\n",
    "                template=\"Please analyze the tone of content related to '{topic}' and classify it as either friendly or non-friendly.no additional information\" )\n",
    "        self.check_tone_model  =LLMChain(prompt=self.prompt_template,llm=GooglePalm(google_api_key = google_api_key))\n",
    "        self.sentence = None\n",
    "        self.user_tone = None\n",
    "\n",
    "        \n",
    "        #Model declaration to collect user information\n",
    "        self.data_prompt_template = PromptTemplate(\n",
    "                input_variables=['user_deatils'],\n",
    "                template=\"Ask the user politely and in a innovative way about there {user_deatils} in English only one question in first person\" )\n",
    "        self.user_data_model  =LLMChain(prompt=self.data_prompt_template,llm=ChatGooglePalm(google_api_key = google_api_key))\n",
    "        self.verification = None\n",
    "        \n",
    "\n",
    "    def check_tone(self):\n",
    "        try:\n",
    "            predection = self.check_tone_model.run(topic = self.sentence)\n",
    "            if predection == \"friendly\":\n",
    "                self.user_tone = True\n",
    "            else:\n",
    "                self.user_tone = False      \n",
    "        except Exception as e:\n",
    "             self.user_tone = False\n",
    "\n",
    "    \n",
    "    def user_promt(self):\n",
    "        ans = self.careerNinjaModel_llm(self.sentence)\n",
    "        if self.username != None:\n",
    "            return \"Hello   \" +self.username + \"  Information about  \" + ans['output']\n",
    "        return ans['output']\n",
    "\n",
    "    \n",
    "    def ask_user(self,detail):\n",
    "    \n",
    "        question = self.user_data_model.run(user_deatils = detail)\n",
    "        return question\n",
    "\n",
    "    \n",
    "    def check_user_details(self,text,key):\n",
    "        data_prompt_template = PromptTemplate(\n",
    "                    input_variables=['key','text'],\n",
    "                    template=\"Is this {text} valid {key} just give the answer as yes or no\" )\n",
    "        \n",
    "        user_model_check = LLMChain(prompt=data_prompt_template,llm=GooglePalm(google_api_key = google_api_key))\n",
    "        try:\n",
    "            predection = user_model_check.run(key = key,text = text)\n",
    "            if predection == \"yes\":\n",
    "                self.verification = True\n",
    "            else:\n",
    "                self.verification = False\n",
    "        except Exception as e:\n",
    "            self.verification = False\n",
    "\n",
    "    from datetime import datetime\n",
    "\n",
    "    def validate_birthday(self,birthday):\n",
    "        try:\n",
    "            birthdate = datetime.strptime(birthday, '%Y-%m-%d')\n",
    "            \n",
    "\n",
    "            current_date = datetime.now()\n",
    "            \n",
    "            age = current_date.year - birthdate.year - ((current_date.month, current_date.day) < (birthdate.month, birthdate.day))\n",
    "            if age < 150 and birthdate <= current_date:\n",
    "                return True,\n",
    "            else:\n",
    "                return False\n",
    "        except ValueError:\n",
    "            return False\n",
    "            \n",
    "    def validate_phone_number(self,phone_number):\n",
    "\n",
    "            pattern = r'^\\d{10}$'\n",
    "            if re.match(pattern, phone_number):\n",
    "                return True\n",
    "            else:\n",
    "                return False\n",
    "                \n",
    "    def validate_email(self,email):\n",
    " \n",
    "            pattern = r'^[a-zA-Z0-9._%+-]+@[a-zA-Z0-9.-]+\\.[a-zA-Z]{2,}$'\n",
    "            if re.match(pattern, email):\n",
    "                return True\n",
    "            else:\n",
    "                return False\n",
    "\n",
    "    def save_user_data(self,user_data):\n",
    "        df = pd.DataFrame([user_data])\n",
    "        csv_file = 'data.csv'\n",
    "        df.to_csv(csv_file, index=False)\n",
    "\n",
    "                \n",
    "            \n",
    "        \n",
    "        \n",
    "model = careerNinjaModel()      "
   ]
  },
  {
   "cell_type": "code",
   "execution_count": 39,
   "id": "bbef1676-9600-4672-b463-f0e8b49ddeef",
   "metadata": {},
   "outputs": [
    {
     "name": "stdout",
     "output_type": "stream",
     "text": [
      "Hi How are you what would you like to know about ???   enter exit or close to exit anytime\n",
      "----------------------------------------------------------------------------------------------------------------------\n"
     ]
    },
    {
     "name": "stdin",
     "output_type": "stream",
     "text": [
      " hiiii how are you\n"
     ]
    },
    {
     "name": "stdout",
     "output_type": "stream",
     "text": [
      "----------------------------------------------------------------------------------------------------------------------\n",
      "----------------------------------------------------------------------------------------------------------------------\n",
      "Chatbot response :  I am doing well, thank you for asking! How are you doing today?\n",
      "----------------------------------------------------------------------------------------------------------------------\n",
      "----------------------------------------------------------------------------------------------------------------------\n",
      "Chatbot response: Hello there Im glad to meet you May I know your name\n",
      "----------------------------------------------------------------------------------------------------------------------\n"
     ]
    },
    {
     "name": "stdin",
     "output_type": "stream",
     "text": [
      " sahil\n"
     ]
    },
    {
     "name": "stdout",
     "output_type": "stream",
     "text": [
      "----------------------------------------------------------------------------------------------------------------------\n",
      "Chatbot response: Nice to mee you sahil\n",
      "----------------------------------------------------------------------------------------------------------------------\n",
      "----------------------------------------------------------------------------------------------------------------------\n",
      "Chatbot response: Hi there I hope youre doing well Im just curious when is your birthday Id love to wish you a happy birthday in advance\n",
      "----------------------------------------------------------------------------------------------------------------------\n"
     ]
    },
    {
     "name": "stdin",
     "output_type": "stream",
     "text": [
      " 2001-11-16\n"
     ]
    },
    {
     "name": "stdout",
     "output_type": "stream",
     "text": [
      "----------------------------------------------------------------------------------------------------------------------\n",
      "Chatbot response: Hi there Im trying to help you with your address Could you please tell me where you live Ill only need your street address city state and zip code Thanks\n",
      "----------------------------------------------------------------------------------------------------------------------\n"
     ]
    },
    {
     "name": "stdin",
     "output_type": "stream",
     "text": [
      " musore\n"
     ]
    },
    {
     "name": "stdout",
     "output_type": "stream",
     "text": [
      "----------------------------------------------------------------------------------------------------------------------\n",
      "Chatbot response: Hi there Im a virtual assistant and Im here to help you with whatever you need To get started could I please have your phone number Ill need it to contact you if I have any questions or updates Thanks\n",
      "----------------------------------------------------------------------------------------------------------------------\n"
     ]
    },
    {
     "name": "stdin",
     "output_type": "stream",
     "text": [
      " 9980670768\n"
     ]
    },
    {
     "name": "stdout",
     "output_type": "stream",
     "text": [
      "----------------------------------------------------------------------------------------------------------------------\n",
      "Chatbot response: Hi there Im your name a virtual assistant Im here to help you with your tasks May I have your email address so I can better assist you\n",
      "----------------------------------------------------------------------------------------------------------------------\n"
     ]
    },
    {
     "name": "stdin",
     "output_type": "stream",
     "text": [
      " jainsahil1116@gmail.com\n"
     ]
    },
    {
     "name": "stdout",
     "output_type": "stream",
     "text": [
      "----------------------------------------------------------------------------------------------------------------------\n"
     ]
    },
    {
     "name": "stdin",
     "output_type": "stream",
     "text": [
      " anime\n"
     ]
    },
    {
     "name": "stdout",
     "output_type": "stream",
     "text": [
      "----------------------------------------------------------------------------------------------------------------------\n",
      "----------------------------------------------------------------------------------------------------------------------\n",
      "Chatbot response :  Hello   sahil  Information about  Anime is a term used to describe all forms of animation from Japan. It is a diverse medium that encompasses a wide range of genres, styles, and techniques. Anime has been around for over a century, and it has become increasingly popular in recent years. There are many reasons for the popularity of anime, including its unique art style, its complex characters, and its often thought-provoking stories. Anime can be enjoyed by people of all ages, and it is a great way to learn about Japanese culture. If you are interested in watching anime, there are many resources available online and in stores. You can also find anime at many local libraries and community centers. So what are you waiting for? Start watching anime today!\n",
      "----------------------------------------------------------------------------------------------------------------------\n",
      "----------------------------------------------------------------------------------------------------------------------\n"
     ]
    },
    {
     "name": "stdin",
     "output_type": "stream",
     "text": [
      " exit\n"
     ]
    }
   ],
   "source": [
    "user_data = {\"name\":None,\"birthday\":None,\"Address\":None,\"Phone-Number\":None,\"Email\":None}\n",
    "\n",
    "print(\"Hi How are you what would you like to know about ???   enter exit or close to exit anytime\")\n",
    "while True:\n",
    "    if user_data['name']!=None:\n",
    "                    model.username = user_data['name']\n",
    "    print(\"----------------------------------------------------------------------------------------------------------------------\")\n",
    "    user_input = str(input())\n",
    "    if user_input.lower() == \"exit\":\n",
    "        model.save_user_data(user_data)\n",
    "        break\n",
    "    print(\"----------------------------------------------------------------------------------------------------------------------\")\n",
    "    model.sentence = user_input\n",
    "    ans = model.user_promt()\n",
    "    print(\"----------------------------------------------------------------------------------------------------------------------\")\n",
    "    print(\"Chatbot response : \", ans)\n",
    "    print(\"----------------------------------------------------------------------------------------------------------------------\")\n",
    "    model.check_tone()\n",
    "    if model.user_tone:\n",
    "        for key, value in user_data.items():\n",
    "            if value is None:\n",
    "     \n",
    "                question = model.ask_user(key)\n",
    "                result_string = re.sub(pattern, '', question)\n",
    "                print(\"----------------------------------------------------------------------------------------------------------------------\")\n",
    "                print(\"Chatbot response:\",result_string)\n",
    "                print(\"----------------------------------------------------------------------------------------------------------------------\")\n",
    "                user_response = input()\n",
    "                \n",
    "                if key ==  'name':\n",
    "                    print(\"----------------------------------------------------------------------------------------------------------------------\")\n",
    "                    print(\"Chatbot response: Nice to mee you\",user_response)\n",
    "                    print(\"----------------------------------------------------------------------------------------------------------------------\")\n",
    "                if key == 'birthday':\n",
    "                    predection = model.validate_birthday(user_response)\n",
    "                    if predection:\n",
    "                        user_data['birthday'] = user_response\n",
    "                    else:\n",
    "                        print(\"----------------------------------------------------------------------------------------------------------------------\")\n",
    "                        print(\"Chatbot response : No problem lets continue with our Topic today\")\n",
    "                        print(\"----------------------------------------------------------------------------------------------------------------------\")\n",
    "                        break\n",
    "                elif key == 'Address':\n",
    "                  \n",
    "                        user_data['Address'] = user_response\n",
    "        \n",
    "                elif key == 'name':\n",
    "                   \n",
    "                        user_data['name'] = user_response\n",
    "                \n",
    "                elif key == 'Email':\n",
    "                    if model.validate_email(user_response):\n",
    "                        user_data['Email'] = user_response\n",
    "                    else:\n",
    "                        print(\"----------------------------------------------------------------------------------------------------------------------\")\n",
    "                        print(\"Chatbot response : No problem lets continue with our Topic today\")\n",
    "                        print(\"----------------------------------------------------------------------------------------------------------------------\")\n",
    "                        break\n",
    "                elif key == 'Phone-Number':\n",
    "                    if model.validate_phone_number(user_response):\n",
    "                        user_data['Phone-Number'] = user_response\n",
    "                    else:\n",
    "                        print(\"----------------------------------------------------------------------------------------------------------------------\")\n",
    "                        print(\"Chatbot response : No problem lets continue with our Topic today\")\n",
    "                        print(\"----------------------------------------------------------------------------------------------------------------------\")\n",
    "                        break\n",
    "                    \n",
    "                \n",
    "\n",
    "\n",
    "      "
   ]
  },
  {
   "cell_type": "code",
   "execution_count": 17,
   "id": "25fd89f9-cad2-4a0b-86c9-61d8892a2ba4",
   "metadata": {},
   "outputs": [
    {
     "data": {
      "text/plain": [
       "{'name': 'sahil',\n",
       " 'birthday': '2001-11-16',\n",
       " 'Address': 'mysore',\n",
       " 'Phone-Number': '9980670768',\n",
       " 'Email': 'jainsahil1116@gmail.com'}"
      ]
     },
     "execution_count": 17,
     "metadata": {},
     "output_type": "execute_result"
    }
   ],
   "source": []
  },
  {
   "cell_type": "code",
   "execution_count": null,
   "id": "6d375aa9-ee0f-4c11-a4a5-0f85f7cf8b04",
   "metadata": {},
   "outputs": [],
   "source": []
  }
 ],
 "metadata": {
  "kernelspec": {
   "display_name": "Python 3 (ipykernel)",
   "language": "python",
   "name": "python3"
  },
  "language_info": {
   "codemirror_mode": {
    "name": "ipython",
    "version": 3
   },
   "file_extension": ".py",
   "mimetype": "text/x-python",
   "name": "python",
   "nbconvert_exporter": "python",
   "pygments_lexer": "ipython3",
   "version": "3.11.5"
  }
 },
 "nbformat": 4,
 "nbformat_minor": 5
}
